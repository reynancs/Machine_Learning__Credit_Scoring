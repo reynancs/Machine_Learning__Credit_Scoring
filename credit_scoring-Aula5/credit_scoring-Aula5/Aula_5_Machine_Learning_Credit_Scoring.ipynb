{
 "cells": [
  {
   "cell_type": "markdown",
   "metadata": {
    "id": "MG6S_fD6vdql"
   },
   "source": [
    "#Aula 1"
   ]
  },
  {
   "cell_type": "code",
   "execution_count": 1,
   "metadata": {
    "id": "M7fQSMhP5Rnm"
   },
   "outputs": [],
   "source": [
    "import pandas as pd"
   ]
  },
  {
   "cell_type": "code",
   "execution_count": 2,
   "metadata": {
    "colab": {
     "base_uri": "https://localhost:8080/",
     "height": 469
    },
    "id": "6MzRwGCE5Z3W",
    "outputId": "a5f35579-d539-49b4-8794-b98cc40c71b0"
   },
   "outputs": [
    {
     "data": {
      "text/html": [
       "<div>\n",
       "<style scoped>\n",
       "    .dataframe tbody tr th:only-of-type {\n",
       "        vertical-align: middle;\n",
       "    }\n",
       "\n",
       "    .dataframe tbody tr th {\n",
       "        vertical-align: top;\n",
       "    }\n",
       "\n",
       "    .dataframe thead th {\n",
       "        text-align: right;\n",
       "    }\n",
       "</style>\n",
       "<table border=\"1\" class=\"dataframe\">\n",
       "  <thead>\n",
       "    <tr style=\"text-align: right;\">\n",
       "      <th></th>\n",
       "      <th>default</th>\n",
       "      <th>conta_corrente</th>\n",
       "      <th>prazo_emprestimo_meses</th>\n",
       "      <th>historico_credito</th>\n",
       "      <th>proposito_emprestimo</th>\n",
       "      <th>valor_emprestimo</th>\n",
       "      <th>reserva_cc</th>\n",
       "      <th>tempo_emprego_atual</th>\n",
       "      <th>taxa_comp_salario</th>\n",
       "      <th>sexo_est_civil</th>\n",
       "      <th>...</th>\n",
       "      <th>anos_residencia_atual</th>\n",
       "      <th>propriedade</th>\n",
       "      <th>idade</th>\n",
       "      <th>outros_planos_financiamento</th>\n",
       "      <th>tipo_residencia</th>\n",
       "      <th>n_creditos_banco</th>\n",
       "      <th>status_emprego</th>\n",
       "      <th>n_dependentes</th>\n",
       "      <th>telefone</th>\n",
       "      <th>trabalhador_estrangeiro</th>\n",
       "    </tr>\n",
       "  </thead>\n",
       "  <tbody>\n",
       "    <tr>\n",
       "      <th>0</th>\n",
       "      <td>0</td>\n",
       "      <td>&lt; 0 DM</td>\n",
       "      <td>6</td>\n",
       "      <td>critical account/ other credits existing (not ...</td>\n",
       "      <td>domestic appliances</td>\n",
       "      <td>1169</td>\n",
       "      <td>unknown/ no savings account</td>\n",
       "      <td>.. &gt;= 7 years</td>\n",
       "      <td>4</td>\n",
       "      <td>male : single</td>\n",
       "      <td>...</td>\n",
       "      <td>4</td>\n",
       "      <td>real estate</td>\n",
       "      <td>67</td>\n",
       "      <td>none</td>\n",
       "      <td>own</td>\n",
       "      <td>2</td>\n",
       "      <td>skilled employee / official</td>\n",
       "      <td>1</td>\n",
       "      <td>yes, registered under the customers name</td>\n",
       "      <td>yes</td>\n",
       "    </tr>\n",
       "    <tr>\n",
       "      <th>1</th>\n",
       "      <td>1</td>\n",
       "      <td>0 &lt;= ... &lt; 200 DM</td>\n",
       "      <td>48</td>\n",
       "      <td>existing credits paid back duly till now</td>\n",
       "      <td>domestic appliances</td>\n",
       "      <td>5951</td>\n",
       "      <td>... &lt; 100 DM</td>\n",
       "      <td>1 &lt;= ... &lt; 4 years</td>\n",
       "      <td>2</td>\n",
       "      <td>female : divorced/separated/married</td>\n",
       "      <td>...</td>\n",
       "      <td>2</td>\n",
       "      <td>real estate</td>\n",
       "      <td>22</td>\n",
       "      <td>none</td>\n",
       "      <td>own</td>\n",
       "      <td>1</td>\n",
       "      <td>skilled employee / official</td>\n",
       "      <td>1</td>\n",
       "      <td>none</td>\n",
       "      <td>yes</td>\n",
       "    </tr>\n",
       "    <tr>\n",
       "      <th>2</th>\n",
       "      <td>0</td>\n",
       "      <td>no checking account</td>\n",
       "      <td>12</td>\n",
       "      <td>critical account/ other credits existing (not ...</td>\n",
       "      <td>(vacation - does not exist?)</td>\n",
       "      <td>2096</td>\n",
       "      <td>... &lt; 100 DM</td>\n",
       "      <td>4 &lt;= ... &lt; 7 years</td>\n",
       "      <td>2</td>\n",
       "      <td>male : single</td>\n",
       "      <td>...</td>\n",
       "      <td>3</td>\n",
       "      <td>real estate</td>\n",
       "      <td>49</td>\n",
       "      <td>none</td>\n",
       "      <td>own</td>\n",
       "      <td>1</td>\n",
       "      <td>unskilled - resident</td>\n",
       "      <td>2</td>\n",
       "      <td>none</td>\n",
       "      <td>yes</td>\n",
       "    </tr>\n",
       "    <tr>\n",
       "      <th>3</th>\n",
       "      <td>0</td>\n",
       "      <td>&lt; 0 DM</td>\n",
       "      <td>42</td>\n",
       "      <td>existing credits paid back duly till now</td>\n",
       "      <td>radio/television</td>\n",
       "      <td>7882</td>\n",
       "      <td>... &lt; 100 DM</td>\n",
       "      <td>4 &lt;= ... &lt; 7 years</td>\n",
       "      <td>2</td>\n",
       "      <td>male : single</td>\n",
       "      <td>...</td>\n",
       "      <td>4</td>\n",
       "      <td>if not A121 : building society savings agreeme...</td>\n",
       "      <td>45</td>\n",
       "      <td>none</td>\n",
       "      <td>for free</td>\n",
       "      <td>1</td>\n",
       "      <td>skilled employee / official</td>\n",
       "      <td>2</td>\n",
       "      <td>none</td>\n",
       "      <td>yes</td>\n",
       "    </tr>\n",
       "    <tr>\n",
       "      <th>4</th>\n",
       "      <td>1</td>\n",
       "      <td>&lt; 0 DM</td>\n",
       "      <td>24</td>\n",
       "      <td>delay in paying off in the past</td>\n",
       "      <td>car (new)</td>\n",
       "      <td>4870</td>\n",
       "      <td>... &lt; 100 DM</td>\n",
       "      <td>1 &lt;= ... &lt; 4 years</td>\n",
       "      <td>3</td>\n",
       "      <td>male : single</td>\n",
       "      <td>...</td>\n",
       "      <td>4</td>\n",
       "      <td>unknown / no property</td>\n",
       "      <td>53</td>\n",
       "      <td>none</td>\n",
       "      <td>for free</td>\n",
       "      <td>2</td>\n",
       "      <td>skilled employee / official</td>\n",
       "      <td>2</td>\n",
       "      <td>none</td>\n",
       "      <td>yes</td>\n",
       "    </tr>\n",
       "  </tbody>\n",
       "</table>\n",
       "<p>5 rows × 21 columns</p>\n",
       "</div>"
      ],
      "text/plain": [
       "   default       conta_corrente  prazo_emprestimo_meses  \\\n",
       "0        0               < 0 DM                       6   \n",
       "1        1    0 <= ... < 200 DM                      48   \n",
       "2        0  no checking account                      12   \n",
       "3        0               < 0 DM                      42   \n",
       "4        1               < 0 DM                      24   \n",
       "\n",
       "                                   historico_credito  \\\n",
       "0  critical account/ other credits existing (not ...   \n",
       "1           existing credits paid back duly till now   \n",
       "2  critical account/ other credits existing (not ...   \n",
       "3           existing credits paid back duly till now   \n",
       "4                    delay in paying off in the past   \n",
       "\n",
       "           proposito_emprestimo  valor_emprestimo  \\\n",
       "0           domestic appliances              1169   \n",
       "1           domestic appliances              5951   \n",
       "2  (vacation - does not exist?)              2096   \n",
       "3              radio/television              7882   \n",
       "4                     car (new)              4870   \n",
       "\n",
       "                    reserva_cc tempo_emprego_atual  taxa_comp_salario  \\\n",
       "0  unknown/ no savings account       .. >= 7 years                  4   \n",
       "1                 ... < 100 DM  1 <= ... < 4 years                  2   \n",
       "2                 ... < 100 DM  4 <= ... < 7 years                  2   \n",
       "3                 ... < 100 DM  4 <= ... < 7 years                  2   \n",
       "4                 ... < 100 DM  1 <= ... < 4 years                  3   \n",
       "\n",
       "                        sexo_est_civil  ... anos_residencia_atual  \\\n",
       "0                        male : single  ...                     4   \n",
       "1  female : divorced/separated/married  ...                     2   \n",
       "2                        male : single  ...                     3   \n",
       "3                        male : single  ...                     4   \n",
       "4                        male : single  ...                     4   \n",
       "\n",
       "                                         propriedade idade  \\\n",
       "0                                        real estate    67   \n",
       "1                                        real estate    22   \n",
       "2                                        real estate    49   \n",
       "3  if not A121 : building society savings agreeme...    45   \n",
       "4                              unknown / no property    53   \n",
       "\n",
       "   outros_planos_financiamento tipo_residencia n_creditos_banco  \\\n",
       "0                         none             own                2   \n",
       "1                         none             own                1   \n",
       "2                         none             own                1   \n",
       "3                         none        for free                1   \n",
       "4                         none        for free                2   \n",
       "\n",
       "                status_emprego n_dependentes  \\\n",
       "0  skilled employee / official             1   \n",
       "1  skilled employee / official             1   \n",
       "2         unskilled - resident             2   \n",
       "3  skilled employee / official             2   \n",
       "4  skilled employee / official             2   \n",
       "\n",
       "                                    telefone trabalhador_estrangeiro  \n",
       "0  yes, registered under the customers name                      yes  \n",
       "1                                       none                     yes  \n",
       "2                                       none                     yes  \n",
       "3                                       none                     yes  \n",
       "4                                       none                     yes  \n",
       "\n",
       "[5 rows x 21 columns]"
      ]
     },
     "execution_count": 2,
     "metadata": {},
     "output_type": "execute_result"
    }
   ],
   "source": [
    "url = 'https://raw.githubusercontent.com/karolpenteado/credit_scoring/main/base_dados_traduzida.csv'\n",
    "dados = pd.read_csv(url)\n",
    "\n",
    "dados.head()"
   ]
  },
  {
   "cell_type": "code",
   "execution_count": 3,
   "metadata": {
    "colab": {
     "base_uri": "https://localhost:8080/"
    },
    "id": "Kf-Xx6lc5w2R",
    "outputId": "532b6658-97cf-4285-e3b4-26680964b1b4"
   },
   "outputs": [
    {
     "name": "stdout",
     "output_type": "stream",
     "text": [
      "<class 'pandas.core.frame.DataFrame'>\n",
      "RangeIndex: 1000 entries, 0 to 999\n",
      "Data columns (total 21 columns):\n",
      " #   Column                       Non-Null Count  Dtype \n",
      "---  ------                       --------------  ----- \n",
      " 0   default                      1000 non-null   int64 \n",
      " 1   conta_corrente               1000 non-null   object\n",
      " 2   prazo_emprestimo_meses       1000 non-null   int64 \n",
      " 3   historico_credito            1000 non-null   object\n",
      " 4   proposito_emprestimo         1000 non-null   object\n",
      " 5   valor_emprestimo             1000 non-null   int64 \n",
      " 6   reserva_cc                   1000 non-null   object\n",
      " 7   tempo_emprego_atual          1000 non-null   object\n",
      " 8   taxa_comp_salario            1000 non-null   int64 \n",
      " 9   sexo_est_civil               1000 non-null   object\n",
      " 10  outros_fiadores              1000 non-null   object\n",
      " 11  anos_residencia_atual        1000 non-null   int64 \n",
      " 12  propriedade                  1000 non-null   object\n",
      " 13  idade                        1000 non-null   int64 \n",
      " 14  outros_planos_financiamento  1000 non-null   object\n",
      " 15  tipo_residencia              1000 non-null   object\n",
      " 16  n_creditos_banco             1000 non-null   int64 \n",
      " 17  status_emprego               1000 non-null   object\n",
      " 18  n_dependentes                1000 non-null   int64 \n",
      " 19  telefone                     1000 non-null   object\n",
      " 20  trabalhador_estrangeiro      1000 non-null   object\n",
      "dtypes: int64(8), object(13)\n",
      "memory usage: 164.2+ KB\n"
     ]
    }
   ],
   "source": [
    "dados.info()"
   ]
  },
  {
   "cell_type": "code",
   "execution_count": 4,
   "metadata": {
    "colab": {
     "base_uri": "https://localhost:8080/"
    },
    "id": "hwWUxQlR53-Z",
    "outputId": "576aa80f-d034-4711-ef99-a91e7bd46cd6"
   },
   "outputs": [
    {
     "name": "stdout",
     "output_type": "stream",
     "text": [
      "A base de dados tem 1000 linhas e 21 colunas.\n"
     ]
    }
   ],
   "source": [
    "linhas = dados.shape[0]\n",
    "colunas = dados.shape[1]\n",
    "\n",
    "print('A base de dados tem %s linhas e %s colunas.' %(linhas, colunas))"
   ]
  },
  {
   "cell_type": "code",
   "execution_count": 5,
   "metadata": {
    "colab": {
     "base_uri": "https://localhost:8080/"
    },
    "id": "R88gGdSg6V5V",
    "outputId": "1b1d7a8b-2cbe-4aa7-960b-f04eb9c20b3e"
   },
   "outputs": [
    {
     "name": "stdout",
     "output_type": "stream",
     "text": [
      "A base de dados tem 0 dados duplicados.\n"
     ]
    }
   ],
   "source": [
    "duplicados = dados.duplicated()\n",
    "duplicados = duplicados.sum()\n",
    "\n",
    "print('A base de dados tem %s dados duplicados.' %(duplicados))"
   ]
  },
  {
   "cell_type": "code",
   "execution_count": 6,
   "metadata": {
    "colab": {
     "base_uri": "https://localhost:8080/"
    },
    "id": "JQrXW7Mt6vsp",
    "outputId": "ffd43a93-7385-4952-c01a-813442d0cb13"
   },
   "outputs": [
    {
     "data": {
      "text/plain": [
       "default                        0\n",
       "conta_corrente                 0\n",
       "prazo_emprestimo_meses         0\n",
       "historico_credito              0\n",
       "proposito_emprestimo           0\n",
       "valor_emprestimo               0\n",
       "reserva_cc                     0\n",
       "tempo_emprego_atual            0\n",
       "taxa_comp_salario              0\n",
       "sexo_est_civil                 0\n",
       "outros_fiadores                0\n",
       "anos_residencia_atual          0\n",
       "propriedade                    0\n",
       "idade                          0\n",
       "outros_planos_financiamento    0\n",
       "tipo_residencia                0\n",
       "n_creditos_banco               0\n",
       "status_emprego                 0\n",
       "n_dependentes                  0\n",
       "telefone                       0\n",
       "trabalhador_estrangeiro        0\n",
       "dtype: int64"
      ]
     },
     "execution_count": 6,
     "metadata": {},
     "output_type": "execute_result"
    }
   ],
   "source": [
    "nulos = dados.isnull()\n",
    "nulos.sum()"
   ]
  },
  {
   "cell_type": "markdown",
   "metadata": {
    "id": "_7HGYhr6zfy0"
   },
   "source": [
    "#Aula 2"
   ]
  },
  {
   "cell_type": "code",
   "execution_count": 7,
   "metadata": {
    "colab": {
     "base_uri": "https://localhost:8080/",
     "height": 469
    },
    "id": "3MsbMusvq-W0",
    "outputId": "7e387e7f-b0db-465a-d4e9-c45d1e786971"
   },
   "outputs": [
    {
     "data": {
      "text/html": [
       "<div>\n",
       "<style scoped>\n",
       "    .dataframe tbody tr th:only-of-type {\n",
       "        vertical-align: middle;\n",
       "    }\n",
       "\n",
       "    .dataframe tbody tr th {\n",
       "        vertical-align: top;\n",
       "    }\n",
       "\n",
       "    .dataframe thead th {\n",
       "        text-align: right;\n",
       "    }\n",
       "</style>\n",
       "<table border=\"1\" class=\"dataframe\">\n",
       "  <thead>\n",
       "    <tr style=\"text-align: right;\">\n",
       "      <th></th>\n",
       "      <th>default</th>\n",
       "      <th>conta_corrente</th>\n",
       "      <th>prazo_emprestimo_meses</th>\n",
       "      <th>historico_credito</th>\n",
       "      <th>proposito_emprestimo</th>\n",
       "      <th>valor_emprestimo</th>\n",
       "      <th>reserva_cc</th>\n",
       "      <th>tempo_emprego_atual</th>\n",
       "      <th>taxa_comp_salario</th>\n",
       "      <th>sexo_est_civil</th>\n",
       "      <th>...</th>\n",
       "      <th>anos_residencia_atual</th>\n",
       "      <th>propriedade</th>\n",
       "      <th>idade</th>\n",
       "      <th>outros_planos_financiamento</th>\n",
       "      <th>tipo_residencia</th>\n",
       "      <th>n_creditos_banco</th>\n",
       "      <th>status_emprego</th>\n",
       "      <th>n_dependentes</th>\n",
       "      <th>telefone</th>\n",
       "      <th>trabalhador_estrangeiro</th>\n",
       "    </tr>\n",
       "  </thead>\n",
       "  <tbody>\n",
       "    <tr>\n",
       "      <th>0</th>\n",
       "      <td>0</td>\n",
       "      <td>&lt; 0 DM</td>\n",
       "      <td>6</td>\n",
       "      <td>critical account/ other credits existing (not ...</td>\n",
       "      <td>domestic appliances</td>\n",
       "      <td>1169</td>\n",
       "      <td>unknown/ no savings account</td>\n",
       "      <td>.. &gt;= 7 years</td>\n",
       "      <td>4</td>\n",
       "      <td>male : single</td>\n",
       "      <td>...</td>\n",
       "      <td>4</td>\n",
       "      <td>real estate</td>\n",
       "      <td>67</td>\n",
       "      <td>none</td>\n",
       "      <td>own</td>\n",
       "      <td>2</td>\n",
       "      <td>skilled employee / official</td>\n",
       "      <td>1</td>\n",
       "      <td>yes, registered under the customers name</td>\n",
       "      <td>yes</td>\n",
       "    </tr>\n",
       "    <tr>\n",
       "      <th>1</th>\n",
       "      <td>1</td>\n",
       "      <td>0 &lt;= ... &lt; 200 DM</td>\n",
       "      <td>48</td>\n",
       "      <td>existing credits paid back duly till now</td>\n",
       "      <td>domestic appliances</td>\n",
       "      <td>5951</td>\n",
       "      <td>... &lt; 100 DM</td>\n",
       "      <td>1 &lt;= ... &lt; 4 years</td>\n",
       "      <td>2</td>\n",
       "      <td>female : divorced/separated/married</td>\n",
       "      <td>...</td>\n",
       "      <td>2</td>\n",
       "      <td>real estate</td>\n",
       "      <td>22</td>\n",
       "      <td>none</td>\n",
       "      <td>own</td>\n",
       "      <td>1</td>\n",
       "      <td>skilled employee / official</td>\n",
       "      <td>1</td>\n",
       "      <td>none</td>\n",
       "      <td>yes</td>\n",
       "    </tr>\n",
       "    <tr>\n",
       "      <th>2</th>\n",
       "      <td>0</td>\n",
       "      <td>no checking account</td>\n",
       "      <td>12</td>\n",
       "      <td>critical account/ other credits existing (not ...</td>\n",
       "      <td>(vacation - does not exist?)</td>\n",
       "      <td>2096</td>\n",
       "      <td>... &lt; 100 DM</td>\n",
       "      <td>4 &lt;= ... &lt; 7 years</td>\n",
       "      <td>2</td>\n",
       "      <td>male : single</td>\n",
       "      <td>...</td>\n",
       "      <td>3</td>\n",
       "      <td>real estate</td>\n",
       "      <td>49</td>\n",
       "      <td>none</td>\n",
       "      <td>own</td>\n",
       "      <td>1</td>\n",
       "      <td>unskilled - resident</td>\n",
       "      <td>2</td>\n",
       "      <td>none</td>\n",
       "      <td>yes</td>\n",
       "    </tr>\n",
       "    <tr>\n",
       "      <th>3</th>\n",
       "      <td>0</td>\n",
       "      <td>&lt; 0 DM</td>\n",
       "      <td>42</td>\n",
       "      <td>existing credits paid back duly till now</td>\n",
       "      <td>radio/television</td>\n",
       "      <td>7882</td>\n",
       "      <td>... &lt; 100 DM</td>\n",
       "      <td>4 &lt;= ... &lt; 7 years</td>\n",
       "      <td>2</td>\n",
       "      <td>male : single</td>\n",
       "      <td>...</td>\n",
       "      <td>4</td>\n",
       "      <td>if not A121 : building society savings agreeme...</td>\n",
       "      <td>45</td>\n",
       "      <td>none</td>\n",
       "      <td>for free</td>\n",
       "      <td>1</td>\n",
       "      <td>skilled employee / official</td>\n",
       "      <td>2</td>\n",
       "      <td>none</td>\n",
       "      <td>yes</td>\n",
       "    </tr>\n",
       "    <tr>\n",
       "      <th>4</th>\n",
       "      <td>1</td>\n",
       "      <td>&lt; 0 DM</td>\n",
       "      <td>24</td>\n",
       "      <td>delay in paying off in the past</td>\n",
       "      <td>car (new)</td>\n",
       "      <td>4870</td>\n",
       "      <td>... &lt; 100 DM</td>\n",
       "      <td>1 &lt;= ... &lt; 4 years</td>\n",
       "      <td>3</td>\n",
       "      <td>male : single</td>\n",
       "      <td>...</td>\n",
       "      <td>4</td>\n",
       "      <td>unknown / no property</td>\n",
       "      <td>53</td>\n",
       "      <td>none</td>\n",
       "      <td>for free</td>\n",
       "      <td>2</td>\n",
       "      <td>skilled employee / official</td>\n",
       "      <td>2</td>\n",
       "      <td>none</td>\n",
       "      <td>yes</td>\n",
       "    </tr>\n",
       "  </tbody>\n",
       "</table>\n",
       "<p>5 rows × 21 columns</p>\n",
       "</div>"
      ],
      "text/plain": [
       "   default       conta_corrente  prazo_emprestimo_meses  \\\n",
       "0        0               < 0 DM                       6   \n",
       "1        1    0 <= ... < 200 DM                      48   \n",
       "2        0  no checking account                      12   \n",
       "3        0               < 0 DM                      42   \n",
       "4        1               < 0 DM                      24   \n",
       "\n",
       "                                   historico_credito  \\\n",
       "0  critical account/ other credits existing (not ...   \n",
       "1           existing credits paid back duly till now   \n",
       "2  critical account/ other credits existing (not ...   \n",
       "3           existing credits paid back duly till now   \n",
       "4                    delay in paying off in the past   \n",
       "\n",
       "           proposito_emprestimo  valor_emprestimo  \\\n",
       "0           domestic appliances              1169   \n",
       "1           domestic appliances              5951   \n",
       "2  (vacation - does not exist?)              2096   \n",
       "3              radio/television              7882   \n",
       "4                     car (new)              4870   \n",
       "\n",
       "                    reserva_cc tempo_emprego_atual  taxa_comp_salario  \\\n",
       "0  unknown/ no savings account       .. >= 7 years                  4   \n",
       "1                 ... < 100 DM  1 <= ... < 4 years                  2   \n",
       "2                 ... < 100 DM  4 <= ... < 7 years                  2   \n",
       "3                 ... < 100 DM  4 <= ... < 7 years                  2   \n",
       "4                 ... < 100 DM  1 <= ... < 4 years                  3   \n",
       "\n",
       "                        sexo_est_civil  ... anos_residencia_atual  \\\n",
       "0                        male : single  ...                     4   \n",
       "1  female : divorced/separated/married  ...                     2   \n",
       "2                        male : single  ...                     3   \n",
       "3                        male : single  ...                     4   \n",
       "4                        male : single  ...                     4   \n",
       "\n",
       "                                         propriedade idade  \\\n",
       "0                                        real estate    67   \n",
       "1                                        real estate    22   \n",
       "2                                        real estate    49   \n",
       "3  if not A121 : building society savings agreeme...    45   \n",
       "4                              unknown / no property    53   \n",
       "\n",
       "   outros_planos_financiamento tipo_residencia n_creditos_banco  \\\n",
       "0                         none             own                2   \n",
       "1                         none             own                1   \n",
       "2                         none             own                1   \n",
       "3                         none        for free                1   \n",
       "4                         none        for free                2   \n",
       "\n",
       "                status_emprego n_dependentes  \\\n",
       "0  skilled employee / official             1   \n",
       "1  skilled employee / official             1   \n",
       "2         unskilled - resident             2   \n",
       "3  skilled employee / official             2   \n",
       "4  skilled employee / official             2   \n",
       "\n",
       "                                    telefone trabalhador_estrangeiro  \n",
       "0  yes, registered under the customers name                      yes  \n",
       "1                                       none                     yes  \n",
       "2                                       none                     yes  \n",
       "3                                       none                     yes  \n",
       "4                                       none                     yes  \n",
       "\n",
       "[5 rows x 21 columns]"
      ]
     },
     "execution_count": 7,
     "metadata": {},
     "output_type": "execute_result"
    }
   ],
   "source": [
    "dados.head()"
   ]
  },
  {
   "cell_type": "code",
   "execution_count": 8,
   "metadata": {
    "colab": {
     "base_uri": "https://localhost:8080/"
    },
    "id": "YEAOme0NrPMY",
    "outputId": "3d66805b-0062-4f41-91ca-6c7dcc3ce668"
   },
   "outputs": [
    {
     "data": {
      "text/plain": [
       "0    0\n",
       "1    1\n",
       "2    0\n",
       "3    0\n",
       "4    1\n",
       "Name: default, dtype: int64"
      ]
     },
     "execution_count": 8,
     "metadata": {},
     "output_type": "execute_result"
    }
   ],
   "source": [
    "y = dados['default']\n",
    "y.head()"
   ]
  },
  {
   "cell_type": "code",
   "execution_count": 9,
   "metadata": {
    "colab": {
     "base_uri": "https://localhost:8080/",
     "height": 469
    },
    "id": "oOGwDMddrojH",
    "outputId": "4da4531c-974c-49aa-b2b4-9f1f4cf7d465"
   },
   "outputs": [
    {
     "data": {
      "text/html": [
       "<div>\n",
       "<style scoped>\n",
       "    .dataframe tbody tr th:only-of-type {\n",
       "        vertical-align: middle;\n",
       "    }\n",
       "\n",
       "    .dataframe tbody tr th {\n",
       "        vertical-align: top;\n",
       "    }\n",
       "\n",
       "    .dataframe thead th {\n",
       "        text-align: right;\n",
       "    }\n",
       "</style>\n",
       "<table border=\"1\" class=\"dataframe\">\n",
       "  <thead>\n",
       "    <tr style=\"text-align: right;\">\n",
       "      <th></th>\n",
       "      <th>conta_corrente</th>\n",
       "      <th>prazo_emprestimo_meses</th>\n",
       "      <th>historico_credito</th>\n",
       "      <th>proposito_emprestimo</th>\n",
       "      <th>valor_emprestimo</th>\n",
       "      <th>reserva_cc</th>\n",
       "      <th>tempo_emprego_atual</th>\n",
       "      <th>taxa_comp_salario</th>\n",
       "      <th>sexo_est_civil</th>\n",
       "      <th>outros_fiadores</th>\n",
       "      <th>anos_residencia_atual</th>\n",
       "      <th>propriedade</th>\n",
       "      <th>idade</th>\n",
       "      <th>outros_planos_financiamento</th>\n",
       "      <th>tipo_residencia</th>\n",
       "      <th>n_creditos_banco</th>\n",
       "      <th>status_emprego</th>\n",
       "      <th>n_dependentes</th>\n",
       "      <th>telefone</th>\n",
       "      <th>trabalhador_estrangeiro</th>\n",
       "    </tr>\n",
       "  </thead>\n",
       "  <tbody>\n",
       "    <tr>\n",
       "      <th>0</th>\n",
       "      <td>&lt; 0 DM</td>\n",
       "      <td>6</td>\n",
       "      <td>critical account/ other credits existing (not ...</td>\n",
       "      <td>domestic appliances</td>\n",
       "      <td>1169</td>\n",
       "      <td>unknown/ no savings account</td>\n",
       "      <td>.. &gt;= 7 years</td>\n",
       "      <td>4</td>\n",
       "      <td>male : single</td>\n",
       "      <td>none</td>\n",
       "      <td>4</td>\n",
       "      <td>real estate</td>\n",
       "      <td>67</td>\n",
       "      <td>none</td>\n",
       "      <td>own</td>\n",
       "      <td>2</td>\n",
       "      <td>skilled employee / official</td>\n",
       "      <td>1</td>\n",
       "      <td>yes, registered under the customers name</td>\n",
       "      <td>yes</td>\n",
       "    </tr>\n",
       "    <tr>\n",
       "      <th>1</th>\n",
       "      <td>0 &lt;= ... &lt; 200 DM</td>\n",
       "      <td>48</td>\n",
       "      <td>existing credits paid back duly till now</td>\n",
       "      <td>domestic appliances</td>\n",
       "      <td>5951</td>\n",
       "      <td>... &lt; 100 DM</td>\n",
       "      <td>1 &lt;= ... &lt; 4 years</td>\n",
       "      <td>2</td>\n",
       "      <td>female : divorced/separated/married</td>\n",
       "      <td>none</td>\n",
       "      <td>2</td>\n",
       "      <td>real estate</td>\n",
       "      <td>22</td>\n",
       "      <td>none</td>\n",
       "      <td>own</td>\n",
       "      <td>1</td>\n",
       "      <td>skilled employee / official</td>\n",
       "      <td>1</td>\n",
       "      <td>none</td>\n",
       "      <td>yes</td>\n",
       "    </tr>\n",
       "    <tr>\n",
       "      <th>2</th>\n",
       "      <td>no checking account</td>\n",
       "      <td>12</td>\n",
       "      <td>critical account/ other credits existing (not ...</td>\n",
       "      <td>(vacation - does not exist?)</td>\n",
       "      <td>2096</td>\n",
       "      <td>... &lt; 100 DM</td>\n",
       "      <td>4 &lt;= ... &lt; 7 years</td>\n",
       "      <td>2</td>\n",
       "      <td>male : single</td>\n",
       "      <td>none</td>\n",
       "      <td>3</td>\n",
       "      <td>real estate</td>\n",
       "      <td>49</td>\n",
       "      <td>none</td>\n",
       "      <td>own</td>\n",
       "      <td>1</td>\n",
       "      <td>unskilled - resident</td>\n",
       "      <td>2</td>\n",
       "      <td>none</td>\n",
       "      <td>yes</td>\n",
       "    </tr>\n",
       "    <tr>\n",
       "      <th>3</th>\n",
       "      <td>&lt; 0 DM</td>\n",
       "      <td>42</td>\n",
       "      <td>existing credits paid back duly till now</td>\n",
       "      <td>radio/television</td>\n",
       "      <td>7882</td>\n",
       "      <td>... &lt; 100 DM</td>\n",
       "      <td>4 &lt;= ... &lt; 7 years</td>\n",
       "      <td>2</td>\n",
       "      <td>male : single</td>\n",
       "      <td>guarantor</td>\n",
       "      <td>4</td>\n",
       "      <td>if not A121 : building society savings agreeme...</td>\n",
       "      <td>45</td>\n",
       "      <td>none</td>\n",
       "      <td>for free</td>\n",
       "      <td>1</td>\n",
       "      <td>skilled employee / official</td>\n",
       "      <td>2</td>\n",
       "      <td>none</td>\n",
       "      <td>yes</td>\n",
       "    </tr>\n",
       "    <tr>\n",
       "      <th>4</th>\n",
       "      <td>&lt; 0 DM</td>\n",
       "      <td>24</td>\n",
       "      <td>delay in paying off in the past</td>\n",
       "      <td>car (new)</td>\n",
       "      <td>4870</td>\n",
       "      <td>... &lt; 100 DM</td>\n",
       "      <td>1 &lt;= ... &lt; 4 years</td>\n",
       "      <td>3</td>\n",
       "      <td>male : single</td>\n",
       "      <td>none</td>\n",
       "      <td>4</td>\n",
       "      <td>unknown / no property</td>\n",
       "      <td>53</td>\n",
       "      <td>none</td>\n",
       "      <td>for free</td>\n",
       "      <td>2</td>\n",
       "      <td>skilled employee / official</td>\n",
       "      <td>2</td>\n",
       "      <td>none</td>\n",
       "      <td>yes</td>\n",
       "    </tr>\n",
       "  </tbody>\n",
       "</table>\n",
       "</div>"
      ],
      "text/plain": [
       "        conta_corrente  prazo_emprestimo_meses  \\\n",
       "0               < 0 DM                       6   \n",
       "1    0 <= ... < 200 DM                      48   \n",
       "2  no checking account                      12   \n",
       "3               < 0 DM                      42   \n",
       "4               < 0 DM                      24   \n",
       "\n",
       "                                   historico_credito  \\\n",
       "0  critical account/ other credits existing (not ...   \n",
       "1           existing credits paid back duly till now   \n",
       "2  critical account/ other credits existing (not ...   \n",
       "3           existing credits paid back duly till now   \n",
       "4                    delay in paying off in the past   \n",
       "\n",
       "           proposito_emprestimo  valor_emprestimo  \\\n",
       "0           domestic appliances              1169   \n",
       "1           domestic appliances              5951   \n",
       "2  (vacation - does not exist?)              2096   \n",
       "3              radio/television              7882   \n",
       "4                     car (new)              4870   \n",
       "\n",
       "                    reserva_cc tempo_emprego_atual  taxa_comp_salario  \\\n",
       "0  unknown/ no savings account       .. >= 7 years                  4   \n",
       "1                 ... < 100 DM  1 <= ... < 4 years                  2   \n",
       "2                 ... < 100 DM  4 <= ... < 7 years                  2   \n",
       "3                 ... < 100 DM  4 <= ... < 7 years                  2   \n",
       "4                 ... < 100 DM  1 <= ... < 4 years                  3   \n",
       "\n",
       "                        sexo_est_civil outros_fiadores  anos_residencia_atual  \\\n",
       "0                        male : single            none                      4   \n",
       "1  female : divorced/separated/married            none                      2   \n",
       "2                        male : single            none                      3   \n",
       "3                        male : single       guarantor                      4   \n",
       "4                        male : single            none                      4   \n",
       "\n",
       "                                         propriedade  idade  \\\n",
       "0                                        real estate     67   \n",
       "1                                        real estate     22   \n",
       "2                                        real estate     49   \n",
       "3  if not A121 : building society savings agreeme...     45   \n",
       "4                              unknown / no property     53   \n",
       "\n",
       "  outros_planos_financiamento tipo_residencia  n_creditos_banco  \\\n",
       "0                        none             own                 2   \n",
       "1                        none             own                 1   \n",
       "2                        none             own                 1   \n",
       "3                        none        for free                 1   \n",
       "4                        none        for free                 2   \n",
       "\n",
       "                status_emprego  n_dependentes  \\\n",
       "0  skilled employee / official              1   \n",
       "1  skilled employee / official              1   \n",
       "2         unskilled - resident              2   \n",
       "3  skilled employee / official              2   \n",
       "4  skilled employee / official              2   \n",
       "\n",
       "                                    telefone trabalhador_estrangeiro  \n",
       "0  yes, registered under the customers name                      yes  \n",
       "1                                       none                     yes  \n",
       "2                                       none                     yes  \n",
       "3                                       none                     yes  \n",
       "4                                       none                     yes  "
      ]
     },
     "execution_count": 9,
     "metadata": {},
     "output_type": "execute_result"
    }
   ],
   "source": [
    "x = dados.drop(columns = 'default')\n",
    "x.head()"
   ]
  },
  {
   "cell_type": "code",
   "execution_count": null,
   "metadata": {
    "colab": {
     "base_uri": "https://localhost:8080/"
    },
    "id": "rOUcVvOPr1PH",
    "outputId": "a475e5f5-cea5-45b8-d5a7-94146d4940c9"
   },
   "outputs": [],
   "source": [
    "from sklearn.model_selection import train_test_split\n",
    "\n",
    "SEED = 77\n",
    "treino_x, teste_x, treino_y, teste_y = train_test_split(x, y, test_size = 0.30, random_state = SEED)\n",
    "\n",
    "base_treino = treino_x.shape[0]\n",
    "base_teste = teste_x.shape[0]\n",
    "\n",
    "print('A base de treino tem %s elementos e a base de teste tem %s elementos.' %(base_treino, base_teste))"
   ]
  },
  {
   "cell_type": "code",
   "execution_count": null,
   "metadata": {
    "colab": {
     "base_uri": "https://localhost:8080/",
     "height": 348
    },
    "id": "pdxP_LNysCZ3",
    "outputId": "cf717053-b626-4b57-9a38-cc0be1bdbb45"
   },
   "outputs": [],
   "source": [
    "from sklearn.linear_model import LogisticRegression\n",
    "\n",
    "modelo = LogisticRegression(max_iter=1000)\n",
    "modelo.fit(treino_x, treino_y) "
   ]
  },
  {
   "cell_type": "code",
   "execution_count": null,
   "metadata": {
    "colab": {
     "base_uri": "https://localhost:8080/",
     "height": 469
    },
    "id": "SCggSXy0tNsj",
    "outputId": "07c0183e-e634-4b42-95c5-3068ba29d50b"
   },
   "outputs": [],
   "source": [
    "dados.head()"
   ]
  },
  {
   "cell_type": "code",
   "execution_count": null,
   "metadata": {
    "colab": {
     "base_uri": "https://localhost:8080/"
    },
    "id": "6EVeeYaKtjet",
    "outputId": "b9098a0e-60d1-477d-df9b-65dc6ea497a2"
   },
   "outputs": [],
   "source": [
    "dados['conta_corrente'].unique()"
   ]
  },
  {
   "cell_type": "code",
   "execution_count": null,
   "metadata": {
    "colab": {
     "base_uri": "https://localhost:8080/"
    },
    "id": "bRBBIiIQ1g-y",
    "outputId": "da6a7d61-f34e-447b-c044-d4dab1eb6ad8"
   },
   "outputs": [],
   "source": [
    "#verifica strings da variavel 'conta_corrente'\n",
    "dados['conta_corrente'].unique()"
   ]
  },
  {
   "cell_type": "code",
   "execution_count": null,
   "metadata": {
    "colab": {
     "base_uri": "https://localhost:8080/",
     "height": 469
    },
    "id": "ELI0oBO_3EkF",
    "outputId": "234b6118-617c-46cc-e92a-25e28cc19868"
   },
   "outputs": [],
   "source": [
    "#mudando categoria variavel 'conta_corrente'\n",
    "\n",
    "a = { 'no checking account' : 4,\n",
    "      '>= 200 DM / salary assignments for at least 1 year' : 3,\n",
    "      '0 <= ... < 200 DM' : 2,\n",
    "      '< 0 DM' : 1     \n",
    "}\n",
    "dados['conta_corrente'] = dados['conta_corrente'].map(a)\n",
    "dados.head()"
   ]
  },
  {
   "cell_type": "code",
   "execution_count": null,
   "metadata": {
    "colab": {
     "base_uri": "https://localhost:8080/",
     "height": 452
    },
    "id": "fVox0Z5ak_bV",
    "outputId": "3fe13d90-00eb-4672-a5b3-dba68f9cbef2"
   },
   "outputs": [],
   "source": [
    "#mudando categoria variavel 'historico_credito'\n",
    "\n",
    "a = { 'no credits taken/ all credits paid back duly' : 1,\n",
    "      'all credits at this bank paid back duly' : 2,\n",
    "      'existing credits paid back duly till now' : 3,\n",
    "      'delay in paying off in the past' : 4,\n",
    "      'critical account/ other credits existing (not at this bank)' : 5     \n",
    "}\n",
    "dados['historico_credito'] = dados['historico_credito'].map(a)\n",
    "dados.head()"
   ]
  },
  {
   "cell_type": "code",
   "execution_count": null,
   "metadata": {
    "colab": {
     "base_uri": "https://localhost:8080/",
     "height": 452
    },
    "id": "6Ww6DkxUubpg",
    "outputId": "5fc1077a-94e5-4ebd-a1fd-fd5c87236035"
   },
   "outputs": [],
   "source": [
    "#mudando categoria variavel 'proposito_emprestimo'\n",
    "\n",
    "a = { 'car (new)' : 1,\n",
    "      'car (used)' : 2,\n",
    "      'furniture/equipment' : 3,\n",
    "      'radio/television' : 4,\n",
    "      'domestic appliances' : 5,\n",
    "      'repairs' : 6,\n",
    "      'education' : 7,\n",
    "      '(vacation - does not exist?)' : 8,\n",
    "      'retraining' : 9,\n",
    "      'business' : 10,\n",
    "      'others' : 11\n",
    "}\n",
    "dados['proposito_emprestimo'] = dados['proposito_emprestimo'].map(a)\n",
    "dados.head()"
   ]
  },
  {
   "cell_type": "code",
   "execution_count": null,
   "metadata": {
    "colab": {
     "base_uri": "https://localhost:8080/",
     "height": 452
    },
    "id": "ez61qd71v0yk",
    "outputId": "cd911268-ddd8-42da-ce46-afa20580ae56"
   },
   "outputs": [],
   "source": [
    "#mudando categoria variavel 'reserva_cc'\n",
    "\n",
    "a = { 'unknown/ no savings account' : 1,\n",
    "      '.. >= 1000 DM ' : 2,\n",
    "      '500 <= ... < 1000 DM ' : 3,\n",
    "      '100 <= ... < 500 DM' : 4,\n",
    "      '... < 100 DM' : 5     \n",
    "}\n",
    "dados['reserva_cc'] = dados['reserva_cc'].map(a)\n",
    "dados.head()"
   ]
  },
  {
   "cell_type": "code",
   "execution_count": null,
   "metadata": {
    "colab": {
     "base_uri": "https://localhost:8080/",
     "height": 452
    },
    "id": "D71mpxVpwunc",
    "outputId": "1b8cf419-467d-4c2c-85c3-3cc2dafd6dff"
   },
   "outputs": [],
   "source": [
    "#mudando categoria variavel 'tempo_emprego_atual'\n",
    "\n",
    "a = { '.. >= 7 years' : 1,\n",
    "      '4 <= ... < 7 years' : 2,\n",
    "      '1 <= ... < 4 years' : 3,\n",
    "      '... < 1 year ' : 4,\n",
    "      'unemployed' : 5     \n",
    "}\n",
    "dados['tempo_emprego_atual'] = dados['tempo_emprego_atual'].map(a)\n",
    "dados.head()"
   ]
  },
  {
   "cell_type": "code",
   "execution_count": null,
   "metadata": {
    "colab": {
     "base_uri": "https://localhost:8080/",
     "height": 452
    },
    "id": "Ee3iB0hZDW4a",
    "outputId": "b0aafcd5-2d43-47b9-828b-65cb009ece2c"
   },
   "outputs": [],
   "source": [
    "#mudando categoria variavel 'sexo_est_civil'\n",
    "\n",
    "a = { 'male : divorced/separated' : 1,\n",
    "      'female : divorced/separated/married' : 2,\n",
    "      'male : single' : 3,\n",
    "      'male : married/widowed' : 4,\n",
    "      'female : single' : 5     \n",
    "}\n",
    "dados['sexo_est_civil'] = dados['sexo_est_civil'].map(a)\n",
    "dados.head()"
   ]
  },
  {
   "cell_type": "code",
   "execution_count": null,
   "metadata": {
    "colab": {
     "base_uri": "https://localhost:8080/",
     "height": 452
    },
    "id": "OaqrbH-MEKid",
    "outputId": "b21881b8-8a38-4dae-8c76-7153ca961a00"
   },
   "outputs": [],
   "source": [
    "#mudando categoria variavel 'outros_fiadores'\n",
    "\n",
    "a = { 'none' : 1,\n",
    "      'co-applicant' : 2,\n",
    "      'guarantor' : 3    \n",
    "}\n",
    "dados['outros_fiadores'] = dados['outros_fiadores'].map(a)\n",
    "dados.head()"
   ]
  },
  {
   "cell_type": "code",
   "execution_count": null,
   "metadata": {
    "colab": {
     "base_uri": "https://localhost:8080/",
     "height": 417
    },
    "id": "JOIKKuHbcX3j",
    "outputId": "a8fcc474-8e4d-4f75-c6ae-554a9ccb101e"
   },
   "outputs": [],
   "source": [
    "#mudando categoria variavel 'propriedade'\n",
    "\n",
    "a = { 'real estate' : 1,\n",
    "      'if not A121 : building society savings agreement/ life insurance' : 2,\n",
    "      'if not A121/A122 : car or other, not in attribute 6' : 3,\n",
    "      'unknown / no property' : 4 \n",
    "}\n",
    "dados['propriedade'] = dados['propriedade'].map(a)\n",
    "dados.head()"
   ]
  },
  {
   "cell_type": "code",
   "execution_count": null,
   "metadata": {
    "colab": {
     "base_uri": "https://localhost:8080/",
     "height": 417
    },
    "id": "viuHwxN0dbxV",
    "outputId": "bdfc346b-1d5c-4cd9-8a8e-1fda257505ea"
   },
   "outputs": [],
   "source": [
    "#mudando categoria variavel 'outros_planos_financiamento'\n",
    "\n",
    "a = { 'bank' : 1,\n",
    "      'stores' : 2,\n",
    "      'none' : 3 \n",
    "}\n",
    "\n",
    "dados['outros_planos_financiamento'] = dados['outros_planos_financiamento'].map(a)\n",
    "dados.head()"
   ]
  },
  {
   "cell_type": "code",
   "execution_count": null,
   "metadata": {
    "colab": {
     "base_uri": "https://localhost:8080/",
     "height": 417
    },
    "id": "9IWMOytkefK3",
    "outputId": "a95d8357-829f-4f22-a9c0-8c73bbfb18f1"
   },
   "outputs": [],
   "source": [
    "#mudando categoria variavel 'tipo_residencia'\n",
    "\n",
    "a = { 'rent' : 1,\n",
    "      'own' : 2,\n",
    "      'for free' : 3 \n",
    "}\n",
    "\n",
    "dados['tipo_residencia'] = dados['tipo_residencia'].map(a)\n",
    "dados.head()"
   ]
  },
  {
   "cell_type": "code",
   "execution_count": null,
   "metadata": {
    "colab": {
     "base_uri": "https://localhost:8080/",
     "height": 296
    },
    "id": "jkLjmxDRc68i",
    "outputId": "1f816e2d-8162-4a42-ec31-b8db3fcd7ffe"
   },
   "outputs": [],
   "source": [
    "#mudando categoria variavel 'status_emprego'\n",
    "\n",
    "a = { 'unemployed/ unskilled - non-resident' : 1,\n",
    "      'unskilled - resident' : 2,\n",
    "      'skilled employee / official' : 3,\n",
    "      'management/ self-employed/ highly qualified employee/ officer' : 4\n",
    "}\n",
    "dados['status_emprego'] = dados['status_emprego'].map(a)\n",
    "dados.head()"
   ]
  },
  {
   "cell_type": "code",
   "execution_count": null,
   "metadata": {
    "colab": {
     "base_uri": "https://localhost:8080/",
     "height": 226
    },
    "id": "I36pj3i2f4DX",
    "outputId": "c187e5aa-4282-4588-f39b-a3fe35ab9737"
   },
   "outputs": [],
   "source": [
    "#mudando categoria variavel 'telefone'\n",
    "\n",
    "a = { 'yes, registered under the customers name ' : 1,\n",
    "      'none' : 0\n",
    "}\n",
    "dados['telefone'] = dados['telefone'].map(a)\n",
    "dados.head()"
   ]
  },
  {
   "cell_type": "code",
   "execution_count": null,
   "metadata": {
    "colab": {
     "base_uri": "https://localhost:8080/",
     "height": 226
    },
    "id": "ezh8RPam1bI6",
    "outputId": "1683ef47-e7e9-4908-ad8f-088a16d9555c"
   },
   "outputs": [],
   "source": [
    "#mudando categoria variavel 'trabalhador_estrangeiro'\n",
    "\n",
    "a = { 'yes' : 1,\n",
    "      'no' : 0\n",
    "}\n",
    "dados['trabalhador_estrangeiro'] = dados['trabalhador_estrangeiro'].map(a)\n",
    "dados.head()"
   ]
  },
  {
   "cell_type": "code",
   "execution_count": null,
   "metadata": {
    "id": "_Y3FDxfcuVGt"
   },
   "outputs": [],
   "source": [
    "y = dados['default']\n",
    "x = dados.drop(columns = 'default')"
   ]
  },
  {
   "cell_type": "code",
   "execution_count": null,
   "metadata": {
    "colab": {
     "base_uri": "https://localhost:8080/"
    },
    "id": "fy9VWmTav-3V",
    "outputId": "00f521ad-572a-40f0-a22a-5d0287210681"
   },
   "outputs": [],
   "source": [
    "SEED = 77\n",
    "treino_x, teste_x, treino_y, teste_y = train_test_split(x, y, test_size=0.30, random_state=SEED)\n",
    "\n",
    "base_treino = treino_x.shape[0]\n",
    "base_teste = teste_x.shape[0]\n",
    "\n",
    "print('A base de treino tem %s elementos e a base de teste tem %s elementos.' %(base_treino, base_teste))"
   ]
  },
  {
   "cell_type": "code",
   "execution_count": null,
   "metadata": {
    "colab": {
     "base_uri": "https://localhost:8080/"
    },
    "id": "JSQyqXbowPPE",
    "outputId": "61a65e82-0a1f-41d1-df5a-5345ee7cba3e"
   },
   "outputs": [],
   "source": [
    "modelo = LogisticRegression(max_iter=1000)\n",
    "modelo.fit(treino_x, treino_y)\n",
    "print(modelo.score(treino_x, treino_y))"
   ]
  },
  {
   "cell_type": "markdown",
   "metadata": {
    "id": "IzEtRNreH9gJ"
   },
   "source": [
    "#Aula 3"
   ]
  },
  {
   "cell_type": "code",
   "execution_count": null,
   "metadata": {
    "colab": {
     "base_uri": "https://localhost:8080/"
    },
    "id": "grWOLu2oYTEl",
    "outputId": "e9d0a7c0-476d-413a-8d0f-89d14c74d536"
   },
   "outputs": [],
   "source": [
    "previsoes = modelo.predict(teste_x)\n",
    "previsoes"
   ]
  },
  {
   "cell_type": "code",
   "execution_count": null,
   "metadata": {
    "colab": {
     "base_uri": "https://localhost:8080/"
    },
    "id": "IoIqkvfXgf0J",
    "outputId": "f154901c-2c36-4413-bee7-3bfa70e3e252"
   },
   "outputs": [],
   "source": [
    "from sklearn.metrics import accuracy_score\n",
    "\n",
    "acuracia = accuracy_score(teste_y, previsoes)\n",
    "acuracia = round(acuracia, 3)*100\n",
    "acuracia"
   ]
  },
  {
   "cell_type": "code",
   "execution_count": null,
   "metadata": {
    "colab": {
     "base_uri": "https://localhost:8080/",
     "height": 299
    },
    "id": "N8FH57Qqgz2I",
    "outputId": "5ac6292a-92f1-4cb0-dd8e-da223d5cf6c3"
   },
   "outputs": [],
   "source": [
    "import matplotlib.pyplot as plt\n",
    "from sklearn.metrics import plot_confusion_matrix\n",
    "\n",
    "matriz_confusao = plot_confusion_matrix(modelo, teste_x, teste_y, cmap='Blues', values_format = '.3g')\n",
    "matriz_confusao   "
   ]
  },
  {
   "cell_type": "code",
   "execution_count": null,
   "metadata": {
    "colab": {
     "base_uri": "https://localhost:8080/"
    },
    "id": "gj_NqbhTxaO0",
    "outputId": "b083f93e-eb39-4fb4-a1ab-86ff116f73e4"
   },
   "outputs": [],
   "source": [
    "from sklearn.metrics import classification_report\n",
    "\n",
    "print(classification_report(teste_y, previsoes))"
   ]
  },
  {
   "cell_type": "code",
   "execution_count": null,
   "metadata": {
    "colab": {
     "base_uri": "https://localhost:8080/",
     "height": 367
    },
    "id": "ARzUEwB12I4G",
    "outputId": "d65ff64a-65c0-43e5-eb06-73a167e3be0b"
   },
   "outputs": [],
   "source": [
    "from sklearn.metrics import roc_curve, roc_auc_score\n",
    "\n",
    "prob_previsao = modelo.predict_proba(teste_x)[:,1]\n",
    "\n",
    "#tfp = taxa falsos positivos\n",
    "#tvp = taxa verdadeiros positivos\n",
    "\n",
    "tfp, tvp, limite = roc_curve(teste_y, prob_previsao)\n",
    "print('roc_auc', roc_auc_score(teste_y, prob_previsao))\n",
    "\n",
    "plt.subplots(1, figsize=(5,5))\n",
    "plt.title('Curva ROC')\n",
    "plt.plot(tfp,tvp)\n",
    "plt.xlabel('Especifidade')\n",
    "plt.ylabel('Sensibilidade')\n",
    "plt.plot([0, 1], ls=\"--\", c = 'red') #plotando linha guia pontilhada vermelha\n",
    "plt.plot([0, 0], [1, 0], ls=\"--\", c = 'green'), plt.plot([1, 1], ls=\"--\", c = 'green') #plotando linha guia pontilhada verde\n",
    "plt.show()\n",
    "\n",
    "#area > 0.8, entao discriminacao excelente!"
   ]
  },
  {
   "cell_type": "markdown",
   "metadata": {
    "id": "XUdM8DluITo_"
   },
   "source": [
    "#Aula 4"
   ]
  },
  {
   "cell_type": "code",
   "execution_count": null,
   "metadata": {
    "colab": {
     "base_uri": "https://localhost:8080/",
     "height": 300
    },
    "id": "XeD-fZzFDQYQ",
    "outputId": "bf4270e2-b70c-4c3b-d767-1d283eaf60f7"
   },
   "outputs": [],
   "source": [
    "variaveis_analise = ['sexo_est_civil', 'idade', 'prazo_emprestimo_meses', 'valor_emprestimo', 'default']\n",
    "dados[variaveis_analise].describe()"
   ]
  },
  {
   "cell_type": "code",
   "execution_count": null,
   "metadata": {
    "colab": {
     "base_uri": "https://localhost:8080/"
    },
    "id": "vQnImnoWjabZ",
    "outputId": "567ea87b-1a2e-47bb-fff6-d968943bc0ad"
   },
   "outputs": [],
   "source": [
    "#homem = categorias 1, 3, 4\n",
    "#mulher = categorias 2, 5\n",
    "\n",
    "dados['sexo_est_civil'].value_counts()\n",
    "\n",
    "#temos 310 mulheres e 690 homens"
   ]
  },
  {
   "cell_type": "code",
   "execution_count": null,
   "metadata": {
    "colab": {
     "base_uri": "https://localhost:8080/"
    },
    "id": "F3Cwjf5Gnjbf",
    "outputId": "f33d6191-fc7c-4c67-cd04-81dc7e4e88ea"
   },
   "outputs": [],
   "source": [
    "dados['default'].value_counts()\n",
    "\n",
    "#a nossa base de dados e desbalanceada "
   ]
  },
  {
   "cell_type": "code",
   "execution_count": null,
   "metadata": {
    "colab": {
     "base_uri": "https://localhost:8080/",
     "height": 785
    },
    "id": "8v7efr3qoKqE",
    "outputId": "34c758c5-385e-4f44-a0bb-43b36f64ded8"
   },
   "outputs": [],
   "source": [
    "import seaborn as sns\n",
    "\n",
    "histogramas = ['sexo_est_civil', 'prazo_emprestimo_meses', 'default']\n",
    "\n",
    "lista_histogramas = list(enumerate(histogramas))\n",
    "\n",
    "plt.figure(figsize = (30,20))\n",
    "\n",
    "for i in lista_histogramas:\n",
    "    plt.subplot(2, 2, i[0]+1)\n",
    "    sns.countplot(x = i[1], data = dados)"
   ]
  },
  {
   "cell_type": "code",
   "execution_count": null,
   "metadata": {
    "colab": {
     "base_uri": "https://localhost:8080/",
     "height": 622
    },
    "id": "sGdMRsvJqR9R",
    "outputId": "0551645a-6117-48d8-d4f6-c7ad00b0f1f5"
   },
   "outputs": [],
   "source": [
    "plt.figure(figsize = (20,10))\n",
    "\n",
    "sns.boxplot(x = 'sexo_est_civil', y = 'idade', data = dados)\n",
    "plt.title('Distruicao de idadade por sexo e estado civil')\n",
    "\n",
    "plt.show()"
   ]
  },
  {
   "cell_type": "code",
   "execution_count": null,
   "metadata": {
    "colab": {
     "base_uri": "https://localhost:8080/",
     "height": 616
    },
    "id": "aAOZZ4lLmceI",
    "outputId": "2c681611-7b2d-45ff-db5e-df56863b6a09"
   },
   "outputs": [],
   "source": [
    "plt.figure(figsize = (20,10))\n",
    "\n",
    "plt.bar(dados.prazo_emprestimo_meses, dados.valor_emprestimo)\n",
    "\n",
    "plt.xlabel('prazo_emprestimo_meses')\n",
    "plt.ylabel('valor_emprestimo')\n",
    "plt.title('Valor X prazo em meses')\n",
    "\n",
    "plt.show()"
   ]
  },
  {
   "cell_type": "markdown",
   "metadata": {
    "id": "SHsDDsOkIZPh"
   },
   "source": [
    "#Aula 5"
   ]
  },
  {
   "cell_type": "code",
   "execution_count": null,
   "metadata": {
    "colab": {
     "base_uri": "https://localhost:8080/",
     "height": 226
    },
    "id": "-KX5Zqkfm_-s",
    "outputId": "a27698da-6261-4648-8a2d-c168905d06ac"
   },
   "outputs": [],
   "source": [
    "#categorias da variavel 'sexo_est_civil'\n",
    "\n",
    "#male : divorced/separated = 1\n",
    "#female : divorced/separated/married = 2\n",
    "#male : single = 3\n",
    "#male : married/widowed = 4\n",
    "#female : single = 5\n",
    "\n",
    "#criando a variavel 'sexo'\n",
    "\n",
    "## 1 = mulher\n",
    "## 0 = homem\n",
    "\n",
    "#criando a variavel 'estado_civil'\n",
    "## 1 = solteira\n",
    "## 0 = casada/divorciada/viúva\n",
    "\n",
    "dic_sexo = {2:1, 5:1, 1:0, 3:0, 4:0}\n",
    "dic_est_civil = {3:1, 5:1, 1:0, 2:0, 4:0}\n",
    "\n",
    "dados['sexo'] = dados['sexo_est_civil'].map(dic_sexo)\n",
    "dados['estado_civil'] = dados['sexo_est_civil'].map(dic_est_civil)\n",
    "\n",
    "dados.head()"
   ]
  },
  {
   "cell_type": "code",
   "execution_count": null,
   "metadata": {
    "colab": {
     "base_uri": "https://localhost:8080/",
     "height": 226
    },
    "id": "hQWOXxkbT4RW",
    "outputId": "9e952b70-6229-486d-e2c4-0c2b7c5dec9a"
   },
   "outputs": [],
   "source": [
    "#funcao para retirar colunas da base de dados\n",
    "\n",
    "colunas_retiradas = ['sexo_est_civil', 'sexo']\n",
    "base_dados = dados.drop(columns=colunas_retiradas)\n",
    "base_dados.head()"
   ]
  },
  {
   "cell_type": "code",
   "execution_count": null,
   "metadata": {
    "id": "KpcQhTd-tAF3"
   },
   "outputs": [],
   "source": [
    "#funcao 'roda_modelo': ajuste a validacao\n",
    "\n",
    "def roda_modelo(base_dados, classificador):\n",
    "\n",
    "#separando a base de modelagem e variavel resposta\n",
    "\n",
    "    y = base_dados['default']\n",
    "    x = base_dados.drop(columns='default')\n",
    "\n",
    "#separando a base de treino e teste\n",
    "\n",
    "    SEED = 77\n",
    "    treino_x, teste_x, treino_y, teste_y = train_test_split(x, y, test_size=0.30, random_state = SEED)\n",
    "\n",
    "    base_treino = treino_x.shape[0]\n",
    "    base_teste = teste_x.shape[0]\n",
    "    print('A base de treino tem %s elementos e a base de teste tem %s elementos.' %(base_treino, base_teste))\n",
    "    print(100*'-')\n",
    "\n",
    "#ajustamdo modelo com base de teste\n",
    "    \n",
    "    modelo = classificador\n",
    "    modelo.fit(treino_x, treino_y)\n",
    "\n",
    "#-------------------------------------------------------------------------------------------------------------------------------------\n",
    "\n",
    "#matriz de confusao\n",
    "\n",
    "    matriz_confusao = plot_confusion_matrix(modelo, teste_x, teste_y, values_format = '.3g', cmap = 'Blues')\n",
    "    plt.title('Matriz de Confusao')\n",
    "    plt.show\n",
    "\n",
    "#classification report\n",
    "\n",
    "    previsoes = modelo.predict(teste_x)\n",
    "\n",
    "    print('\\nClassification Report:')\n",
    "    print(classification_report(teste_y, previsoes))\n",
    "\n",
    "#curva ROC  e AUC\n",
    "\n",
    "    print(100*'-')\n",
    "    prob_previsao = modelo.predict_proba(teste_x)[:,1]\n",
    "   \n",
    "    tfp, tvp, limite = roc_curve(teste_y, prob_previsao)\n",
    "    print('roc_auc:', roc_auc_score(teste_y, prob_previsao))\n",
    "    \n",
    "    plt.subplots(1, figsize=(5,5))\n",
    "    plt.title('Curva ROC')\n",
    "    plt.plot(tfp, tvp)\n",
    "    plt.plot([0, 1], ls=\"--\", c = 'red') #plotando linha pontilhada guia para regressao aleatoria\n",
    "    plt.plot([0, 0], [1, 0], ls=\"--\", c = 'green'), plt.plot([1, 1], ls=\"--\", c = 'green') #plotando linha pontilhada guia para regressao perfeita\n",
    "    plt.ylabel('Sensibilidade')\n",
    "    plt.xlabel('Especificidade')\n",
    "    plt.show() \n",
    "\n",
    "    return modelo, matriz_confusao"
   ]
  },
  {
   "cell_type": "code",
   "execution_count": null,
   "metadata": {
    "colab": {
     "base_uri": "https://localhost:8080/",
     "height": 993
    },
    "id": "t4qoPlplSAs-",
    "outputId": "815b0b27-4281-4264-a89d-1108908a2f00"
   },
   "outputs": [],
   "source": [
    "roda_modelo(base_dados, LogisticRegression(max_iter=1000))"
   ]
  },
  {
   "cell_type": "code",
   "execution_count": null,
   "metadata": {
    "colab": {
     "base_uri": "https://localhost:8080/",
     "height": 226
    },
    "id": "B6iRoa9p56R7",
    "outputId": "6097c533-08c0-4e56-f279-a1e1a813ecdb"
   },
   "outputs": [],
   "source": [
    "#criando 'faixa_idade' para variavel 'idade'\n",
    "\n",
    "## 18 - 30 = 1\n",
    "## 31 - 40 = 2\n",
    "## 41 - 50 = 3\n",
    "## 51 - 60 = 4\n",
    "## 61 - 70 = 5\n",
    "## 71 - 80 = 6\n",
    "\n",
    "dados['faixa_idade'] = pd.cut(x = dados['idade'], bins=[18, 30, 40, 50, 60, 70, 80], labels = [1, 2, 3, 4, 5, 6])\n",
    "dados.head()"
   ]
  },
  {
   "cell_type": "code",
   "execution_count": null,
   "metadata": {
    "colab": {
     "base_uri": "https://localhost:8080/",
     "height": 226
    },
    "id": "VoI1l6e28NYG",
    "outputId": "ada45d0f-c53c-4cd8-d9a8-9139307eebad"
   },
   "outputs": [],
   "source": [
    "#criando 'faixa_prazo_emprestimo' para variavel 'prazo_emprestimo_meses'\n",
    "\n",
    "## 01 - 12 = 1\n",
    "## 13 - 24 = 2\n",
    "## 25 - 36 = 3\n",
    "## 37 - 48 = 4\n",
    "## 49 - 60 = 5\n",
    "## 61 - 72 = 6\n",
    "\n",
    "\n",
    "dados['faixa_prazo_emprestimo'] = pd.cut(x = dados['prazo_emprestimo_meses'], bins=[1, 12, 24, 36, 48, 60, 72], labels = [1, 2, 3, 4, 5, 6])\n",
    "dados.head()"
   ]
  },
  {
   "cell_type": "code",
   "execution_count": null,
   "metadata": {
    "colab": {
     "base_uri": "https://localhost:8080/",
     "height": 226
    },
    "id": "_Im0b4TD8PMZ",
    "outputId": "92512f09-344a-4efa-a1bc-d735062aa8bf"
   },
   "outputs": [],
   "source": [
    "#criando 'faixa_valor_emprestimo' para variavel 'valor_emprestimo'\n",
    "\n",
    "## 1 - 1000 = 1\n",
    "## 1001 - 2000 = 2\n",
    "## 2001 - 3000 = 3\n",
    "## 3001 - 4000 = 4\n",
    "## 4001 - 5000 = 5\n",
    "## 5001 - 6000 = 6\n",
    "## 6001 - 7000 = 7\n",
    "## 7001 - 8000 = 8\n",
    "## 8001 - 9000 = 9\n",
    "## 9001 - 10000 = 10\n",
    "## 10001 - 11000 = 11\n",
    "## 11001 - 12000 = 12\n",
    "## 12001 - 13000 = 13\n",
    "## 13001 - 14000 = 14\n",
    "## 14001 - 15000 = 15\n",
    "## 15001 - 16000 = 16\n",
    "## 16001 - 17000 = 17\n",
    "## 17001 - 18000 = 18\n",
    "## 18001 - 19000 = 19\n",
    "## 19001 - 20000 = 20\n",
    "\n",
    "dados['faixa_valor_emprestimo'] = pd.cut(x = dados['valor_emprestimo'], bins=[1, 1000, 2000, 3000, 4000, 5000, 6000, 7000, 8000, 9000, 10000, 11000, 12000, 13000, 14000, 15000, 16000, 17000, 18000, 19000, 20000], \n",
    "                                         labels = [1, 2, 3, 4, 5, 6, 7, 8, 9, 10, 11, 12, 13, 14, 15, 16, 17, 18, 19, 20])\n",
    "dados.head()"
   ]
  },
  {
   "cell_type": "code",
   "execution_count": null,
   "metadata": {
    "colab": {
     "base_uri": "https://localhost:8080/",
     "height": 226
    },
    "id": "gpyXgT6k_Ovk",
    "outputId": "8ce66e5b-8704-4b14-8316-52ec90f9016f"
   },
   "outputs": [],
   "source": [
    "#funcao para retirar colunas da base de dados\n",
    "\n",
    "colunas_retiradas = ['sexo_est_civil', 'sexo', 'idade', 'prazo_emprestimo_meses', 'valor_emprestimo']\n",
    "base_dados = dados.drop(columns=colunas_retiradas)\n",
    "base_dados.head()"
   ]
  },
  {
   "cell_type": "code",
   "execution_count": null,
   "metadata": {
    "colab": {
     "base_uri": "https://localhost:8080/",
     "height": 993
    },
    "id": "9VmykCJP8TFA",
    "outputId": "42ec0693-a9ec-4e6d-bf7c-66c47641b21c"
   },
   "outputs": [],
   "source": [
    "#roda novamente o modelo\n",
    "roda_modelo(base_dados, LogisticRegression(max_iter=1000))"
   ]
  },
  {
   "cell_type": "code",
   "execution_count": null,
   "metadata": {
    "colab": {
     "base_uri": "https://localhost:8080/",
     "height": 226
    },
    "id": "6_CzZHC4FwBJ",
    "outputId": "122dd063-2d14-468b-a7f7-cda06f35658a"
   },
   "outputs": [],
   "source": [
    "colunas_retiradas = ['sexo_est_civil', 'sexo', 'idade', 'prazo_emprestimo_meses', 'valor_emprestimo']\n",
    "base_dados = dados.drop(columns=colunas_retiradas)\n",
    "base_dados.head()"
   ]
  },
  {
   "cell_type": "code",
   "execution_count": null,
   "metadata": {
    "colab": {
     "base_uri": "https://localhost:8080/"
    },
    "id": "nBlbJSPYGPp7",
    "outputId": "082735a5-87b0-4495-bb4e-6719eb026246"
   },
   "outputs": [],
   "source": [
    "#treinar modelo com a base inteira\n",
    "\n",
    "modelo = LogisticRegression(max_iter=1000)\n",
    "y = base_dados['default']\n",
    "x= base_dados.drop(columns = 'default')\n",
    "modelo.fit(x,y)"
   ]
  }
 ],
 "metadata": {
  "colab": {
   "name": "Aula 5 - Machine Learning - Credit Scoring.ipynb",
   "provenance": [],
   "toc_visible": true
  },
  "kernelspec": {
   "display_name": "Python 3 (ipykernel)",
   "language": "python",
   "name": "python3"
  },
  "language_info": {
   "codemirror_mode": {
    "name": "ipython",
    "version": 3
   },
   "file_extension": ".py",
   "mimetype": "text/x-python",
   "name": "python",
   "nbconvert_exporter": "python",
   "pygments_lexer": "ipython3",
   "version": "3.9.13"
  }
 },
 "nbformat": 4,
 "nbformat_minor": 1
}
